{
 "cells": [
  {
   "cell_type": "code",
   "execution_count": 8,
   "metadata": {},
   "outputs": [
    {
     "data": {
      "text/plain": [
       "{'history': [HumanMessage(content='Hi! '), AIMessage(content='How are you?')]}"
      ]
     },
     "execution_count": 8,
     "metadata": {},
     "output_type": "execute_result"
    }
   ],
   "source": [
    "from langchain.memory import ConversationBufferMemory\n",
    "\n",
    "memory = ConversationBufferMemory(return_messages=True)\n",
    "\n",
    "memory.save_context({\"input\": \"Hi! \"}, {\"output\": \"How are you?\"})\n",
    "\n",
    "memory.load_memory_variables({})"
   ]
  },
  {
   "cell_type": "code",
   "execution_count": 9,
   "metadata": {},
   "outputs": [
    {
     "data": {
      "text/plain": [
       "{'history': [HumanMessage(content='Hi! '),\n",
       "  AIMessage(content='How are you?'),\n",
       "  HumanMessage(content='Hi! '),\n",
       "  AIMessage(content='How are you?')]}"
      ]
     },
     "execution_count": 9,
     "metadata": {},
     "output_type": "execute_result"
    }
   ],
   "source": [
    "memory.save_context({\"input\": \"Hi! \"}, {\"output\": \"How are you?\"})\n",
    "\n",
    "memory.load_memory_variables({})"
   ]
  },
  {
   "cell_type": "code",
   "execution_count": 10,
   "metadata": {},
   "outputs": [
    {
     "data": {
      "text/plain": [
       "{'history': [HumanMessage(content='Hi! '),\n",
       "  AIMessage(content='How are you?'),\n",
       "  HumanMessage(content='Hi! '),\n",
       "  AIMessage(content='How are you?'),\n",
       "  HumanMessage(content='Hi! '),\n",
       "  AIMessage(content='How are you?')]}"
      ]
     },
     "execution_count": 10,
     "metadata": {},
     "output_type": "execute_result"
    }
   ],
   "source": [
    "memory.save_context({\"input\": \"Hi! \"}, {\"output\": \"How are you?\"})\n",
    "\n",
    "memory.load_memory_variables({})"
   ]
  },
  {
   "cell_type": "code",
   "execution_count": 11,
   "metadata": {},
   "outputs": [
    {
     "data": {
      "text/plain": [
       "{'history': [HumanMessage(content='Hi! '),\n",
       "  AIMessage(content='How are you?'),\n",
       "  HumanMessage(content='Hi! '),\n",
       "  AIMessage(content='How are you?'),\n",
       "  HumanMessage(content='Hi! '),\n",
       "  AIMessage(content='How are you?'),\n",
       "  HumanMessage(content='Hi! '),\n",
       "  AIMessage(content='How are you?')]}"
      ]
     },
     "execution_count": 11,
     "metadata": {},
     "output_type": "execute_result"
    }
   ],
   "source": [
    "memory.save_context({\"input\": \"Hi! \"}, {\"output\": \"How are you?\"})\n",
    "\n",
    "memory.load_memory_variables({})"
   ]
  },
  {
   "cell_type": "code",
   "execution_count": 12,
   "metadata": {},
   "outputs": [
    {
     "data": {
      "text/plain": [
       "{'history': [HumanMessage(content='Hi! '),\n",
       "  AIMessage(content='How are you?'),\n",
       "  HumanMessage(content='Hi! '),\n",
       "  AIMessage(content='How are you?'),\n",
       "  HumanMessage(content='Hi! '),\n",
       "  AIMessage(content='How are you?'),\n",
       "  HumanMessage(content='Hi! '),\n",
       "  AIMessage(content='How are you?'),\n",
       "  HumanMessage(content='Hi! '),\n",
       "  AIMessage(content='How are you?')]}"
      ]
     },
     "execution_count": 12,
     "metadata": {},
     "output_type": "execute_result"
    }
   ],
   "source": [
    "memory.save_context({\"input\": \"Hi! \"}, {\"output\": \"How are you?\"})\n",
    "\n",
    "memory.load_memory_variables({})"
   ]
  },
  {
   "cell_type": "code",
   "execution_count": 13,
   "metadata": {},
   "outputs": [
    {
     "data": {
      "text/plain": [
       "{'history': [HumanMessage(content='Hi! '),\n",
       "  AIMessage(content='How are you?'),\n",
       "  HumanMessage(content='Hi! '),\n",
       "  AIMessage(content='How are you?'),\n",
       "  HumanMessage(content='Hi! '),\n",
       "  AIMessage(content='How are you?'),\n",
       "  HumanMessage(content='Hi! '),\n",
       "  AIMessage(content='How are you?'),\n",
       "  HumanMessage(content='Hi! '),\n",
       "  AIMessage(content='How are you?'),\n",
       "  HumanMessage(content='Hi! '),\n",
       "  AIMessage(content='How are you?')]}"
      ]
     },
     "execution_count": 13,
     "metadata": {},
     "output_type": "execute_result"
    }
   ],
   "source": [
    "memory.save_context({\"input\": \"Hi! \"}, {\"output\": \"How are you?\"})\n",
    "\n",
    "memory.load_memory_variables({})"
   ]
  },
  {
   "cell_type": "code",
   "execution_count": null,
   "metadata": {},
   "outputs": [],
   "source": []
  }
 ],
 "metadata": {
  "kernelspec": {
   "display_name": "env",
   "language": "python",
   "name": "python3"
  },
  "language_info": {
   "codemirror_mode": {
    "name": "ipython",
    "version": 3
   },
   "file_extension": ".py",
   "mimetype": "text/x-python",
   "name": "python",
   "nbconvert_exporter": "python",
   "pygments_lexer": "ipython3",
   "version": "3.11.5"
  }
 },
 "nbformat": 4,
 "nbformat_minor": 2
}
