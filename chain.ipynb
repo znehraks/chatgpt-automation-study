{
 "cells": [
  {
   "cell_type": "code",
   "execution_count": 2,
   "metadata": {},
   "outputs": [],
   "source": [
    "from langchain.chat_models import ChatOpenAI\n",
    "from langchain.prompts import ChatPromptTemplate\n",
    "from langchain.callbacks import StreamingStdOutCallbackHandler\n",
    "\n",
    "chat = ChatOpenAI(temperature=0.1, streaming=True,\n",
    "                  callbacks=[StreamingStdOutCallbackHandler()],)\n",
    "\n",
    "chef_template = ChatPromptTemplate.from_messages([\n",
    "    (\"system\", \"You are a world-class international chef. You create easy to follow recipes for any type of cuisine with easy to find ingredients.\"),\n",
    "    (\"human\", \"I want to cook {cuisine} food.\")\n",
    "])\n",
    "\n",
    "chef_chain = chef_template | chat"
   ]
  },
  {
   "cell_type": "code",
   "execution_count": 3,
   "metadata": {},
   "outputs": [
    {
     "name": "stdout",
     "output_type": "stream",
     "text": [
      "Great choice! Indian cuisine is known for its bold flavors and aromatic spices. Let's start with a classic and delicious recipe for Chicken Tikka Masala. \n",
      "\n",
      "Ingredients:\n",
      "- 1 lb boneless, skinless chicken breasts, cut into bite-sized pieces\n",
      "- 1 cup plain yogurt\n",
      "- 2 tbsp lemon juice\n",
      "- 2 tbsp vegetable oil\n",
      "- 1 onion, finely chopped\n",
      "- 3 cloves garlic, minced\n",
      "- 1-inch piece of ginger, grated\n",
      "- 1 can (14 oz) diced tomatoes\n",
      "- 2 tbsp tomato paste\n",
      "- 1 tbsp garam masala\n",
      "- 1 tsp ground cumin\n",
      "- 1 tsp ground coriander\n",
      "- 1/2 tsp turmeric\n",
      "- 1/2 tsp cayenne pepper (adjust to taste)\n",
      "- Salt and pepper to taste\n",
      "- 1/2 cup heavy cream\n",
      "- Fresh cilantro, chopped for garnish\n",
      "\n",
      "Instructions:\n",
      "1. In a bowl, combine the yogurt, lemon juice, 1 tbsp vegetable oil, 1 tbsp garam masala, 1 tsp ground cumin, 1 tsp ground coriander, 1/2 tsp turmeric, 1/2 tsp cayenne pepper, salt, and pepper. Add the chicken pieces and marinate for at least 1 hour, preferably overnight.\n",
      "\n",
      "2. Preheat the oven to 400°F (200°C). Thread the marinated chicken onto skewers and place them on a baking sheet. Bake for 20-25 minutes or until the chicken is cooked through.\n",
      "\n",
      "3. In a large skillet, heat the remaining 1 tbsp of vegetable oil over medium heat. Add the chopped onion and cook until softened, about 5 minutes. Add the minced garlic and grated ginger, and cook for another 2 minutes.\n",
      "\n",
      "4. Stir in the diced tomatoes and tomato paste. Add 1 tbsp garam masala and season with salt and pepper. Simmer for 10-15 minutes until the sauce thickens.\n",
      "\n",
      "5. Stir in the heavy cream and add the cooked chicken tikka pieces. Simmer for an additional 5 minutes to allow the flavors to meld together.\n",
      "\n",
      "6. Serve the Chicken Tikka Masala over steamed rice or with naan bread. Garnish with chopped cilantro before serving.\n",
      "\n",
      "Enjoy your homemade Chicken Tikka Masala!To make this Chicken Tikka Masala recipe vegetarian, we can replace the chicken with a suitable alternative. One popular substitute for chicken in Indian dishes is paneer, a type of Indian cottage cheese. Here's how you can adapt the recipe:\n",
      "\n",
      "**Vegetarian Chicken Tikka Masala**\n",
      "\n",
      "**Ingredients:**\n",
      "- 1 lb paneer, cut into bite-sized pieces\n",
      "- 1 cup plain yogurt\n",
      "- 2 tbsp lemon juice\n",
      "- 2 tbsp vegetable oil\n",
      "- 1 onion, finely chopped\n",
      "- 3 cloves garlic, minced\n",
      "- 1-inch piece of ginger, grated\n",
      "- 1 can (14 oz) diced tomatoes\n",
      "- 2 tbsp tomato paste\n",
      "- 1 tbsp garam masala\n",
      "- 1 tsp ground cumin\n",
      "- 1 tsp ground coriander\n",
      "- 1/2 tsp turmeric\n",
      "- 1/2 tsp cayenne pepper (adjust to taste)\n",
      "- Salt and pepper to taste\n",
      "- 1/2 cup heavy cream\n",
      "- Fresh cilantro, chopped for garnish\n",
      "\n",
      "**Instructions:**\n",
      "1. In a bowl, combine the yogurt, lemon juice, 1 tbsp vegetable oil, 1 tbsp garam masala, 1 tsp ground cumin, 1 tsp ground coriander, 1/2 tsp turmeric, 1/2 tsp cayenne pepper, salt, and pepper. Add the paneer pieces and marinate for at least 1 hour, preferably overnight.\n",
      "\n",
      "2. Preheat the oven to 400°F (200°C). Thread the marinated paneer onto skewers and place them on a baking sheet. Bake for 20-25 minutes or until the paneer is slightly browned.\n",
      "\n",
      "3. In a large skillet, heat the remaining 1 tbsp of vegetable oil over medium heat. Add the chopped onion and cook until softened, about 5 minutes. Add the minced garlic and grated ginger, and cook for another 2 minutes.\n",
      "\n",
      "4. Stir in the diced tomatoes and tomato paste. Add 1 tbsp garam masala and season with salt and pepper. Simmer for 10-15 minutes until the sauce thickens.\n",
      "\n",
      "5. Stir in the heavy cream and add the cooked paneer tikka pieces. Simmer for an additional 5 minutes to allow the flavors to meld together.\n",
      "\n",
      "6. Serve the Vegetarian Chicken Tikka Masala over steamed rice or with naan bread. Garnish with chopped cilantro before serving.\n",
      "\n",
      "Enjoy your flavorful and vegetarian version of Chicken Tikka Masala!"
     ]
    },
    {
     "data": {
      "text/plain": [
       "AIMessageChunk(content=\"To make this Chicken Tikka Masala recipe vegetarian, we can replace the chicken with a suitable alternative. One popular substitute for chicken in Indian dishes is paneer, a type of Indian cottage cheese. Here's how you can adapt the recipe:\\n\\n**Vegetarian Chicken Tikka Masala**\\n\\n**Ingredients:**\\n- 1 lb paneer, cut into bite-sized pieces\\n- 1 cup plain yogurt\\n- 2 tbsp lemon juice\\n- 2 tbsp vegetable oil\\n- 1 onion, finely chopped\\n- 3 cloves garlic, minced\\n- 1-inch piece of ginger, grated\\n- 1 can (14 oz) diced tomatoes\\n- 2 tbsp tomato paste\\n- 1 tbsp garam masala\\n- 1 tsp ground cumin\\n- 1 tsp ground coriander\\n- 1/2 tsp turmeric\\n- 1/2 tsp cayenne pepper (adjust to taste)\\n- Salt and pepper to taste\\n- 1/2 cup heavy cream\\n- Fresh cilantro, chopped for garnish\\n\\n**Instructions:**\\n1. In a bowl, combine the yogurt, lemon juice, 1 tbsp vegetable oil, 1 tbsp garam masala, 1 tsp ground cumin, 1 tsp ground coriander, 1/2 tsp turmeric, 1/2 tsp cayenne pepper, salt, and pepper. Add the paneer pieces and marinate for at least 1 hour, preferably overnight.\\n\\n2. Preheat the oven to 400°F (200°C). Thread the marinated paneer onto skewers and place them on a baking sheet. Bake for 20-25 minutes or until the paneer is slightly browned.\\n\\n3. In a large skillet, heat the remaining 1 tbsp of vegetable oil over medium heat. Add the chopped onion and cook until softened, about 5 minutes. Add the minced garlic and grated ginger, and cook for another 2 minutes.\\n\\n4. Stir in the diced tomatoes and tomato paste. Add 1 tbsp garam masala and season with salt and pepper. Simmer for 10-15 minutes until the sauce thickens.\\n\\n5. Stir in the heavy cream and add the cooked paneer tikka pieces. Simmer for an additional 5 minutes to allow the flavors to meld together.\\n\\n6. Serve the Vegetarian Chicken Tikka Masala over steamed rice or with naan bread. Garnish with chopped cilantro before serving.\\n\\nEnjoy your flavorful and vegetarian version of Chicken Tikka Masala!\")"
      ]
     },
     "execution_count": 3,
     "metadata": {},
     "output_type": "execute_result"
    }
   ],
   "source": [
    "veg_chef_prompt = ChatPromptTemplate.from_messages([\n",
    "    (\"system\",\"You are a vegetarian chef specialized on making traditional recipies vegetarian. You find alternative ingredients and explain their preparation. You don't radically modify the recipe. If there is no alternative for a food just say you don't know how to replace it.\"),\n",
    "    (\"human\",\"{recipe}\")\n",
    "])\n",
    "\n",
    "veg_chef_chain = veg_chef_prompt | chat\n",
    "\n",
    "final_chain = {\"recipe\": chef_chain} | veg_chef_chain\n",
    "\n",
    "final_chain.invoke(\n",
    "    {\"cuisine\": \"indian\"}\n",
    ")"
   ]
  },
  {
   "cell_type": "code",
   "execution_count": null,
   "metadata": {},
   "outputs": [],
   "source": []
  }
 ],
 "metadata": {
  "kernelspec": {
   "display_name": "env",
   "language": "python",
   "name": "python3"
  },
  "language_info": {
   "codemirror_mode": {
    "name": "ipython",
    "version": 3
   },
   "file_extension": ".py",
   "mimetype": "text/x-python",
   "name": "python",
   "nbconvert_exporter": "python",
   "pygments_lexer": "ipython3",
   "version": "3.11.5"
  }
 },
 "nbformat": 4,
 "nbformat_minor": 2
}
