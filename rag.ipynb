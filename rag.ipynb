{
 "cells": [
  {
   "cell_type": "code",
   "execution_count": 13,
   "metadata": {},
   "outputs": [
    {
     "name": "stderr",
     "output_type": "stream",
     "text": [
      "Created a chunk of size 613, which is longer than the specified 600\n",
      "Created a chunk of size 678, which is longer than the specified 600\n",
      "Created a chunk of size 684, which is longer than the specified 600\n",
      "Created a chunk of size 1429, which is longer than the specified 600\n",
      "Created a chunk of size 755, which is longer than the specified 600\n",
      "Created a chunk of size 831, which is longer than the specified 600\n",
      "Created a chunk of size 812, which is longer than the specified 600\n"
     ]
    },
    {
     "data": {
      "text/plain": [
       "[Document(page_content='The Orwell Archive at University College London contains undated notes about ideas that evolved into Nineteen Eighty-Four. The notebooks have been deemed \"unlikely to have been completed later than January 1944\", and \"there is a strong suspicion that some of the material in them dates back to the early part of the war\". [14]', metadata={'source': './files/chapter_one.txt'}),\n",
       " Document(page_content='In one 1948 letter, Orwell claims to have \"first thought of [the book] in 1943\", while in another he says he thought of it in 1944 and cites 1943\\'s Tehran Conference as inspiration: \"What it is really meant to do is to discuss the implications of dividing the world up into \\'Zones of Influence\\' (I thought of it in 1944 as a result of the Tehran Conference), and in addition to indicate by parodying them the intellectual implications of totalitarianism\". [14] Orwell had toured Austria in May 1945 and observed manoeuvering he thought would likely lead to separate Soviet and Allied Zones of Occupation. [15][16]', metadata={'source': './files/chapter_one.txt'}),\n",
       " Document(page_content='In January 1944, literature professor Gleb Struve introduced Orwell to Yevgeny Zamyatin\\'s 1924 dystopian novel We. In his response Orwell expressed an interest in the genre, and informed Struve that he had begun writing ideas for one of his own, \"that may get written sooner or later. \"[17][18] In 1946, Orwell wrote about the 1931 dystopian novel Brave New World by Aldous Huxley in his article \"Freedom and Happiness\" for the Tribune, and noted similarities to We. [17] By this time Orwell had scored a critical and commercial hit with his 1945 political satire Animal Farm, which raised his profile. For a follow-up he decided to produce a dystopian work of his own. [19][20]', metadata={'source': './files/chapter_one.txt'}),\n",
       " Document(page_content='Writing In a June 1944 meeting with Fredric Warburg, co-founder of his British publisher Secker & Warburg, shortly before the release of Animal Farm, Orwell announced that he had written the first 12 pages of his new novel. He could only earn a living from journalism, however, and predicted the book would not see a release before 1947. [18] Progress was slow going; by the end of September 1945 Orwell had written some 50 pages. [21] Orwell became disenchanted with the restrictions and pressures involved with journalism and grew to detest city life in London. [22] His health also suffered, with the harsh winter worsening his case of bronchiectasis and a lesion in one lung. [23]', metadata={'source': './files/chapter_one.txt'}),\n",
       " Document(page_content='The novel was completed at Barnhill, Jura. In May 1946, Orwell arrived on the Scottish island of Jura. [20] He had wanted to retreat to a Hebridean island for several years, to which David Astor recommended he stay at Barnhill, a remote farmhouse on the island that his family owned. [24] Barnhill had no electricity or hot water, but it was here where Orwell intermittently drafted and finished Nineteen Eighty-Four. [20] His first stay lasted until October 1946, during which time he made little progress on the few already completed pages and at one point, did no work on it for three months. [25] After spending the winter in London, Orwell returned to Jura; in May 1947 he reported to Warburg that despite progress being slow and difficult, he was roughly a third of the way through. [26] He sent his \"ghastly mess\" of a first draft manuscript to London where Miranda Christen volunteered to type a clean version. [27] Orwell\\'s health took a turn in September, however, and he was confined to bed with inflammation of the lungs. He lost almost two stone (28 pounds or 12.7 kg) in weight and had recurring night sweats, but he decided not to see a doctor and continued writing. [28] On 7 November 1947, he completed the first draft in bed and subsequently travelled to East Kilbride near Glasgow for medical treatment at Hairmyres Hospital, where a specialist confirmed a chronic and infectious case of tuberculosis. [29][27]', metadata={'source': './files/chapter_one.txt'}),\n",
       " Document(page_content='Orwell was discharged in the summer of 1948, after which he returned to Jura and produced a full second draft of Nineteen Eighty-Four, which he finished in November. He asked Warburg to have someone come to Barnhill and retype the manuscript, which was so untidy that the task was only considered possible if Orwell was present, as only he could understand it. The previous volunteer had left the country and no other could be found at short notice, so an impatient Orwell retyped it himself at a rate of roughly 4,000 words a day during bouts of fever and bloody coughing fits. [27] On 4 December 1948, Orwell sent the finished manuscript to Secker & Warburg and left Barnhill for good in January 1949. He recovered at a sanitarium in the Cotswolds. [27]', metadata={'source': './files/chapter_one.txt'}),\n",
       " Document(page_content='Title Shortly before completion of the second draft, Orwell hesitated between two titles for the novel: The Last Man in Europe, an early title, and Nineteen Eighty-Four. [30] Warburg suggested the latter, which he took to be a more commercially viable choice. [31] There has been a theory – doubted by Dorian Lynskey (author of a 2019 book about Nineteen Eighty-Four) – that 1984 was chosen simply as an inversion of the year 1948, the year in which it was being completed. Lynskey says the idea was \"first suggested by Orwell\\'s US publisher\", and it was also mentioned by Christopher Hitchens in his introduction to the 2003 edition of Animal Farm and 1984, which also notes that the date was meant to give \"an immediacy and urgency to the menace of totalitarian rule\". [32] However, Lynskey does not believe the inversion theory:', metadata={'source': './files/chapter_one.txt'}),\n",
       " Document(page_content='This idea ... seems far too cute for such a serious book. ... Scholars have raised other possibilities. [His wife] Eileen wrote a poem for her old school\\'s centenary called \\'End of the Century: 1984.\\' G. K. Chesterton\\'s 1904 political satire The Napoleon of Notting Hill, which mocks the art of prophecy, opens in 1984. The year is also a significant date in The Iron Heel. But all of these connections are exposed as no more than coincidences by the early drafts of the novel ... First he wrote 1980, then 1982, and only later 1984. The most fateful date in literature was a late amendment. \"[33]', metadata={'source': './files/chapter_one.txt'}),\n",
       " Document(page_content='Publication', metadata={'source': './files/chapter_one.txt'}),\n",
       " Document(page_content='A 1947 draft manuscript of the first page of Nineteen Eighty-Four, showing the editorial development In the run up to publication, Orwell called the novel \"a beastly book\" and expressed some disappointment towards it, thinking it would have been improved had he not been so ill. This was typical of Orwell, who had talked down his other books shortly before their release. [33] Nevertheless, the book was enthusiastically received by Secker & Warburg, who acted quickly; before Orwell had left Jura he rejected their proposed blurb that portrayed it as \"a thriller mixed up with a love story. \"[33] He also refused a proposal from the American Book of the Month Club to release an edition without the appendix and chapter on Goldstein\\'s book, a decision which Warburg claimed cut off about £40,000 in sales. [33]', metadata={'source': './files/chapter_one.txt'}),\n",
       " Document(page_content=\"Nineteen Eighty-Four was published on 8 June 1949 in the UK; Orwell predicated earnings of around £500. [33][34][35] A first print of 25,575 copies was followed by a further 5,000 copies in March and August 1950. [36] The novel had the most immediate impact in the US, following its release there on 13 June 1949 by Harcourt Brace, & Co. An initial print of 20,000 copies was quickly followed by another 10,000 on 1 July, and again on 7 September. [37] By 1970, over 8 million copies had been sold in the US and in 1984, it topped the country's all-time best seller list. [38]\", metadata={'source': './files/chapter_one.txt'}),\n",
       " Document(page_content=\"In June 1952, Orwell's widow Sonia Bronwell sold the only surviving manuscript at a charity auction for £50. [39] The draft remains the only surviving literary manuscript from Orwell, and is presently held at the John Hay Library at Brown University in Providence, Rhode Island. [40][41]\", metadata={'source': './files/chapter_one.txt'})]"
      ]
     },
     "execution_count": 13,
     "metadata": {},
     "output_type": "execute_result"
    }
   ],
   "source": [
    "from langchain.chat_models import ChatOpenAI\n",
    "from langchain.document_loaders import UnstructuredFileLoader\n",
    "from langchain.text_splitter import CharacterTextSplitter\n",
    "\n",
    "splitter = CharacterTextSplitter(\n",
    "    separator=\"\\n\",\n",
    "    chunk_size=600,\n",
    "    chunk_overlap=100\n",
    ")\n",
    "\n",
    "loader = UnstructuredFileLoader(\"./files/chapter_one.txt\")\n",
    "loader.load_and_split(text_splitter=splitter)"
   ]
  },
  {
   "cell_type": "code",
   "execution_count": null,
   "metadata": {},
   "outputs": [],
   "source": []
  }
 ],
 "metadata": {
  "kernelspec": {
   "display_name": "env",
   "language": "python",
   "name": "python3"
  },
  "language_info": {
   "codemirror_mode": {
    "name": "ipython",
    "version": 3
   },
   "file_extension": ".py",
   "mimetype": "text/x-python",
   "name": "python",
   "nbconvert_exporter": "python",
   "pygments_lexer": "ipython3",
   "version": "3.11.5"
  }
 },
 "nbformat": 4,
 "nbformat_minor": 2
}
